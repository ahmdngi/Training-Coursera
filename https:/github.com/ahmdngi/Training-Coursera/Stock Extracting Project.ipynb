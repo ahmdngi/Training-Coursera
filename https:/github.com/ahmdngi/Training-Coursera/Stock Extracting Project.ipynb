{
    "cells": [
        {
            "cell_type": "code",
            "execution_count": 1,
            "metadata": {},
            "outputs": [
                {
                    "name": "stdout",
                    "output_type": "stream",
                    "text": "Collecting yfinance==0.1.67\n  Downloading yfinance-0.1.67-py2.py3-none-any.whl (25 kB)\nRequirement already satisfied: requests>=2.20 in /opt/conda/envs/Python-3.8-main/lib/python3.8/site-packages (from yfinance==0.1.67) (2.26.0)\nRequirement already satisfied: lxml>=4.5.1 in /opt/conda/envs/Python-3.8-main/lib/python3.8/site-packages (from yfinance==0.1.67) (4.6.4)\nRequirement already satisfied: multitasking>=0.0.7 in /opt/conda/envs/Python-3.8-main/lib/python3.8/site-packages (from yfinance==0.1.67) (0.0.10)\nRequirement already satisfied: pandas>=0.24 in /opt/conda/envs/Python-3.8-main/lib/python3.8/site-packages (from yfinance==0.1.67) (1.3.3)\nRequirement already satisfied: numpy>=1.15 in /opt/conda/envs/Python-3.8-main/lib/python3.8/site-packages (from yfinance==0.1.67) (1.19.2)\nRequirement already satisfied: pytz>=2017.3 in /opt/conda/envs/Python-3.8-main/lib/python3.8/site-packages (from pandas>=0.24->yfinance==0.1.67) (2021.1)\nRequirement already satisfied: python-dateutil>=2.7.3 in /opt/conda/envs/Python-3.8-main/lib/python3.8/site-packages (from pandas>=0.24->yfinance==0.1.67) (2.8.1)\nRequirement already satisfied: six>=1.5 in /opt/conda/envs/Python-3.8-main/lib/python3.8/site-packages (from python-dateutil>=2.7.3->pandas>=0.24->yfinance==0.1.67) (1.15.0)\nRequirement already satisfied: idna<4,>=2.5 in /opt/conda/envs/Python-3.8-main/lib/python3.8/site-packages (from requests>=2.20->yfinance==0.1.67) (2.8)\nRequirement already satisfied: charset-normalizer~=2.0.0 in /opt/conda/envs/Python-3.8-main/lib/python3.8/site-packages (from requests>=2.20->yfinance==0.1.67) (2.0.4)\nRequirement already satisfied: certifi>=2017.4.17 in /opt/conda/envs/Python-3.8-main/lib/python3.8/site-packages (from requests>=2.20->yfinance==0.1.67) (2021.10.8)\nRequirement already satisfied: urllib3<1.27,>=1.21.1 in /opt/conda/envs/Python-3.8-main/lib/python3.8/site-packages (from requests>=2.20->yfinance==0.1.67) (1.26.6)\nInstalling collected packages: yfinance\n  Attempting uninstall: yfinance\n    Found existing installation: yfinance 0.1.70\n    Uninstalling yfinance-0.1.70:\n      Successfully uninstalled yfinance-0.1.70\nSuccessfully installed yfinance-0.1.67\n"
                },
                {
                    "data": {
                        "text/plain": "['Requirement already satisfied: pandas==1.3.3 in /opt/conda/envs/Python-3.8-main/lib/python3.8/site-packages (1.3.3)',\n 'Requirement already satisfied: numpy>=1.17.3 in /opt/conda/envs/Python-3.8-main/lib/python3.8/site-packages (from pandas==1.3.3) (1.19.2)',\n 'Requirement already satisfied: python-dateutil>=2.7.3 in /opt/conda/envs/Python-3.8-main/lib/python3.8/site-packages (from pandas==1.3.3) (2.8.1)',\n 'Requirement already satisfied: pytz>=2017.3 in /opt/conda/envs/Python-3.8-main/lib/python3.8/site-packages (from pandas==1.3.3) (2021.1)',\n 'Requirement already satisfied: six>=1.5 in /opt/conda/envs/Python-3.8-main/lib/python3.8/site-packages (from python-dateutil>=2.7.3->pandas==1.3.3) (1.15.0)']"
                    },
                    "execution_count": 1,
                    "metadata": {},
                    "output_type": "execute_result"
                }
            ],
            "source": "!pip install yfinance==0.1.67\n!pip install pandas==1.3.3"
        },
        {
            "cell_type": "code",
            "execution_count": 2,
            "metadata": {},
            "outputs": [],
            "source": "import yfinance as yf\nimport pandas as pd"
        },
        {
            "cell_type": "code",
            "execution_count": 3,
            "metadata": {},
            "outputs": [],
            "source": "amd = yf.Ticker(\"AMD\")"
        },
        {
            "cell_type": "code",
            "execution_count": 4,
            "metadata": {},
            "outputs": [
                {
                    "data": {
                        "text/plain": "{'zip': '95054',\n 'sector': 'Technology',\n 'fullTimeEmployees': 12600,\n 'longBusinessSummary': 'Advanced Micro Devices, Inc. operates as a semiconductor company worldwide. The company operates in two segments, Computing and Graphics; and Enterprise, Embedded and Semi-Custom. Its products include x86 microprocessors as an accelerated processing unit, chipsets, discrete and integrated graphics processing units (GPUs), data center and professional GPUs, and development services; and server and embedded processors, and semi-custom System-on-Chip (SoC) products, development services, and technology for game consoles. The company provides x86 microprocessors for desktop PCs under the AMD Ryzen, AMD Ryzen PRO, Ryzen, Threadripper, AMD A-Series, AMD FX, AMD Athlon, AMD Athlon PRO, and AMD Pro A-Series processors brands; microprocessors for notebook and 2-in-1s under the AMD Ryzen, AMD A-Series, AMD Athlon, AMD Ryzen PRO, AMD Athlon PRO, and AMD Pro A-Series processors brands; microprocessors for servers under the AMD EPYC and AMD Opteron brands; and chipsets under the AMD trademark. It also offers discrete GPUs for desktop and notebook PCs under the AMD Radeon graphics and AMD Embedded Radeon brands; professional graphics products under the AMD Radeon Pro and AMD FirePro graphics brands; and Radeon Instinct and AMD Instinct accelerators for servers. In addition, the company provides embedded processor solutions under the AMD Opteron, AMD Athlon, AMD Geode, AMD Ryzen, AMD EPYC, AMD R-Series, and G-Series processors brands; and customer-specific solutions based on AMD CPU, GPU, and multi-media technologies, as well as semi-custom SoC products. It serves original equipment manufacturers, public cloud service providers, original design manufacturers, system integrators, independent distributors, online retailers, and add-in-board manufacturers through its direct sales force, independent distributors, and sales representatives. Advanced Micro Devices, Inc. was founded in 1969 and is headquartered in Santa Clara, California.',\n 'city': 'Santa Clara',\n 'phone': '408 749 4000',\n 'state': 'CA',\n 'country': 'United States',\n 'companyOfficers': [],\n 'website': 'https://www.amd.com',\n 'maxAge': 1,\n 'address1': '2485 Augustine Drive',\n 'industry': 'Semiconductors',\n 'ebitdaMargins': 0.23047,\n 'profitMargins': 0.26724002,\n 'grossMargins': 0.46822,\n 'operatingCashflow': 3252999936,\n 'revenueGrowth': 0.54,\n 'operatingMargins': 0.20496,\n 'ebitda': 3423000064,\n 'targetLowPrice': 101.5,\n 'recommendationKey': 'buy',\n 'grossProfits': 4347000000,\n 'freeCashflow': 2437625088,\n 'targetMedianPrice': 145,\n 'currentPrice': 116.78,\n 'earningsGrowth': 1.331,\n 'currentRatio': 2.241,\n 'returnOnAssets': 0.20934,\n 'numberOfAnalystOpinions': 37,\n 'targetMeanPrice': 142.74,\n 'debtToEquity': 9.837,\n 'returnOnEquity': 0.72143996,\n 'targetHighPrice': 180,\n 'totalCash': 3608000000,\n 'totalDebt': 702000000,\n 'totalRevenue': 14851999744,\n 'totalCashPerShare': 2.988,\n 'financialCurrency': 'USD',\n 'revenuePerShare': 12.249,\n 'quickRatio': 1.638,\n 'recommendationMean': 2.4,\n 'exchange': 'NMS',\n 'shortName': 'Advanced Micro Devices, Inc.',\n 'longName': 'Advanced Micro Devices, Inc.',\n 'exchangeTimezoneName': 'America/New_York',\n 'exchangeTimezoneShortName': 'EST',\n 'isEsgPopulated': False,\n 'gmtOffSetMilliseconds': '-18000000',\n 'quoteType': 'EQUITY',\n 'symbol': 'AMD',\n 'messageBoardId': 'finmb_168864',\n 'market': 'us_market',\n 'annualHoldingsTurnover': None,\n 'enterpriseToRevenue': 9.094,\n 'beta3Year': None,\n 'enterpriseToEbitda': 39.458,\n '52WeekChange': 0.28573036,\n 'morningStarRiskRating': None,\n 'forwardEps': 3.36,\n 'revenueQuarterlyGrowth': None,\n 'sharesOutstanding': 1207609984,\n 'fundInceptionDate': None,\n 'annualReportExpenseRatio': None,\n 'totalAssets': None,\n 'bookValue': 5.888,\n 'sharesShort': 63839188,\n 'sharesPercentSharesOut': 0.0529,\n 'fundFamily': None,\n 'lastFiscalYearEnd': 1608940800,\n 'heldPercentInstitutions': 0.70542,\n 'netIncomeToCommon': 3968999936,\n 'trailingEps': 3.242,\n 'lastDividendValue': None,\n 'SandP52WeekChange': 0.1801318,\n 'priceToBook': 19.833559,\n 'heldPercentInsiders': 0.00486,\n 'nextFiscalYearEnd': 1672012800,\n 'yield': None,\n 'mostRecentQuarter': 1632528000,\n 'shortRatio': 1.05,\n 'sharesShortPreviousMonthDate': 1639526400,\n 'floatShares': 1200533858,\n 'beta': 1.873796,\n 'enterpriseValue': 135063494656,\n 'priceHint': 2,\n 'threeYearAverageReturn': None,\n 'lastSplitDate': 966902400,\n 'lastSplitFactor': '2:1',\n 'legalType': None,\n 'lastDividendDate': None,\n 'morningStarOverallRating': None,\n 'earningsQuarterlyGrowth': 1.367,\n 'priceToSalesTrailing12Months': 9.495334,\n 'dateShortInterest': 1642118400,\n 'pegRatio': 1.12,\n 'ytdReturn': None,\n 'forwardPE': 34.755955,\n 'lastCapGain': None,\n 'shortPercentOfFloat': 0.0531,\n 'sharesShortPriorMonth': 69630670,\n 'impliedSharesOutstanding': None,\n 'category': None,\n 'fiveYearAverageReturn': None,\n 'previousClose': 114.25,\n 'regularMarketOpen': 116.75,\n 'twoHundredDayAverage': 109.3929,\n 'trailingAnnualDividendYield': None,\n 'payoutRatio': 0,\n 'volume24Hr': None,\n 'regularMarketDayHigh': 117.26,\n 'navPrice': None,\n 'averageDailyVolume10Day': 93055330,\n 'regularMarketPreviousClose': 114.25,\n 'fiftyDayAverage': 138.7868,\n 'trailingAnnualDividendRate': None,\n 'open': 116.75,\n 'toCurrency': None,\n 'averageVolume10days': 93055330,\n 'expireDate': None,\n 'algorithm': None,\n 'dividendRate': None,\n 'exDividendDate': 798940800,\n 'circulatingSupply': None,\n 'startDate': None,\n 'regularMarketDayLow': 112.73,\n 'currency': 'USD',\n 'trailingPE': 36.020973,\n 'regularMarketVolume': 118710908,\n 'lastMarket': None,\n 'maxSupply': None,\n 'openInterest': None,\n 'marketCap': 141024690176,\n 'volumeAllCurrencies': None,\n 'strikePrice': None,\n 'averageVolume': 66649564,\n 'dayLow': 112.73,\n 'ask': 116.92,\n 'askSize': 1000,\n 'volume': 118710908,\n 'fiftyTwoWeekHigh': 164.46,\n 'fromCurrency': None,\n 'fiveYearAvgDividendYield': None,\n 'fiftyTwoWeekLow': 72.5,\n 'bid': 118.3,\n 'tradeable': False,\n 'dividendYield': None,\n 'bidSize': 1100,\n 'dayHigh': 117.26,\n 'regularMarketPrice': 116.78,\n 'preMarketPrice': 116.77,\n 'logo_url': 'https://logo.clearbit.com/amd.com'}"
                    },
                    "execution_count": 4,
                    "metadata": {},
                    "output_type": "execute_result"
                }
            ],
            "source": "amd_info=amd.info\namd_info"
        },
        {
            "cell_type": "code",
            "execution_count": 5,
            "metadata": {},
            "outputs": [
                {
                    "data": {
                        "text/plain": "'United States'"
                    },
                    "execution_count": 5,
                    "metadata": {},
                    "output_type": "execute_result"
                }
            ],
            "source": "amd_info['country']"
        },
        {
            "cell_type": "code",
            "execution_count": 6,
            "metadata": {},
            "outputs": [
                {
                    "data": {
                        "text/plain": "'Technology'"
                    },
                    "execution_count": 6,
                    "metadata": {},
                    "output_type": "execute_result"
                }
            ],
            "source": "amd_info['sector']"
        },
        {
            "cell_type": "code",
            "execution_count": 7,
            "metadata": {},
            "outputs": [],
            "source": "amd_share_price_data=amd.history(period=\"max\")"
        },
        {
            "cell_type": "code",
            "execution_count": 8,
            "metadata": {
                "scrolled": true
            },
            "outputs": [
                {
                    "data": {
                        "text/html": "<div>\n<style scoped>\n    .dataframe tbody tr th:only-of-type {\n        vertical-align: middle;\n    }\n\n    .dataframe tbody tr th {\n        vertical-align: top;\n    }\n\n    .dataframe thead th {\n        text-align: right;\n    }\n</style>\n<table border=\"1\" class=\"dataframe\">\n  <thead>\n    <tr style=\"text-align: right;\">\n      <th></th>\n      <th>Open</th>\n      <th>High</th>\n      <th>Low</th>\n      <th>Close</th>\n      <th>Volume</th>\n      <th>Dividends</th>\n      <th>Stock Splits</th>\n    </tr>\n    <tr>\n      <th>Date</th>\n      <th></th>\n      <th></th>\n      <th></th>\n      <th></th>\n      <th></th>\n      <th></th>\n      <th></th>\n    </tr>\n  </thead>\n  <tbody>\n    <tr>\n      <th>1980-03-17</th>\n      <td>0.0</td>\n      <td>3.302083</td>\n      <td>3.125000</td>\n      <td>3.145833</td>\n      <td>219600</td>\n      <td>0</td>\n      <td>0.0</td>\n    </tr>\n    <tr>\n      <th>1980-03-18</th>\n      <td>0.0</td>\n      <td>3.125000</td>\n      <td>2.937500</td>\n      <td>3.031250</td>\n      <td>727200</td>\n      <td>0</td>\n      <td>0.0</td>\n    </tr>\n    <tr>\n      <th>1980-03-19</th>\n      <td>0.0</td>\n      <td>3.083333</td>\n      <td>3.020833</td>\n      <td>3.041667</td>\n      <td>295200</td>\n      <td>0</td>\n      <td>0.0</td>\n    </tr>\n    <tr>\n      <th>1980-03-20</th>\n      <td>0.0</td>\n      <td>3.062500</td>\n      <td>3.010417</td>\n      <td>3.010417</td>\n      <td>159600</td>\n      <td>0</td>\n      <td>0.0</td>\n    </tr>\n    <tr>\n      <th>1980-03-21</th>\n      <td>0.0</td>\n      <td>3.020833</td>\n      <td>2.906250</td>\n      <td>2.916667</td>\n      <td>130800</td>\n      <td>0</td>\n      <td>0.0</td>\n    </tr>\n  </tbody>\n</table>\n</div>",
                        "text/plain": "            Open      High       Low     Close  Volume  Dividends  \\\nDate                                                                \n1980-03-17   0.0  3.302083  3.125000  3.145833  219600          0   \n1980-03-18   0.0  3.125000  2.937500  3.031250  727200          0   \n1980-03-19   0.0  3.083333  3.020833  3.041667  295200          0   \n1980-03-20   0.0  3.062500  3.010417  3.010417  159600          0   \n1980-03-21   0.0  3.020833  2.906250  2.916667  130800          0   \n\n            Stock Splits  \nDate                      \n1980-03-17           0.0  \n1980-03-18           0.0  \n1980-03-19           0.0  \n1980-03-20           0.0  \n1980-03-21           0.0  "
                    },
                    "execution_count": 8,
                    "metadata": {},
                    "output_type": "execute_result"
                }
            ],
            "source": "amd_share_price_data.head()"
        },
        {
            "cell_type": "code",
            "execution_count": 9,
            "metadata": {},
            "outputs": [],
            "source": "amd_share_price_data.reset_index(inplace=True)"
        },
        {
            "cell_type": "code",
            "execution_count": 10,
            "metadata": {},
            "outputs": [
                {
                    "data": {
                        "text/plain": "<AxesSubplot:xlabel='Date'>"
                    },
                    "execution_count": 10,
                    "metadata": {},
                    "output_type": "execute_result"
                },
                {
                    "data": {
                        "image/png": "[encoded data removed]",
                        "text/plain": "<Figure size 432x288 with 1 Axes>"
                    },
                    "metadata": {
                        "needs_background": "light"
                    },
                    "output_type": "display_data"
                }
            ],
            "source": "amd_share_price_data.plot(x=\"Date\",y=\"Open\")"
        },
        {
            "cell_type": "code",
            "execution_count": 11,
            "metadata": {},
            "outputs": [
                {
                    "data": {
                        "text/plain": "219600"
                    },
                    "execution_count": 11,
                    "metadata": {},
                    "output_type": "execute_result"
                }
            ],
            "source": "amd_share_price_data.loc[0,\"Volume\"]"
        }
    ],
    "metadata": {
        "kernelspec": {
            "display_name": "Python 3.8",
            "language": "python",
            "name": "python3"
        },
        "language_info": {
            "codemirror_mode": {
                "name": "ipython",
                "version": 3
            },
            "file_extension": ".py",
            "mimetype": "text/x-python",
            "name": "python",
            "nbconvert_exporter": "python",
            "pygments_lexer": "ipython3",
            "version": "3.8.12"
        }
    },
    "nbformat": 4,
    "nbformat_minor": 1
}