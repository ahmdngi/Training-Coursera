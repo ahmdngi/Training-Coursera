{
    "cells": [
        {
            "cell_type": "code",
            "execution_count": 10,
            "metadata": {},
            "outputs": [
                {
                    "name": "stdout",
                    "output_type": "stream",
                    "text": "Collecting pandas==1.3.3\n  Downloading pandas-1.3.3-cp38-cp38-manylinux_2_17_x86_64.manylinux2014_x86_64.whl (11.5 MB)\n\u001b[K     |\u2588\u2588\u2588\u2588\u2588\u2588\u2588\u2588\u2588\u2588\u2588\u2588\u2588\u2588\u2588\u2588\u2588\u2588\u2588\u2588\u2588\u2588\u2588\u2588\u2588\u2588\u2588\u2588\u2588\u2588\u2588\u2588| 11.5 MB 28.8 MB/s eta 0:00:01\n\u001b[?25hRequirement already satisfied: python-dateutil>=2.7.3 in /opt/conda/envs/Python-3.8-main/lib/python3.8/site-packages (from pandas==1.3.3) (2.8.1)\nRequirement already satisfied: pytz>=2017.3 in /opt/conda/envs/Python-3.8-main/lib/python3.8/site-packages (from pandas==1.3.3) (2021.1)\nRequirement already satisfied: numpy>=1.17.3 in /opt/conda/envs/Python-3.8-main/lib/python3.8/site-packages (from pandas==1.3.3) (1.19.2)\nRequirement already satisfied: six>=1.5 in /opt/conda/envs/Python-3.8-main/lib/python3.8/site-packages (from python-dateutil>=2.7.3->pandas==1.3.3) (1.15.0)\nInstalling collected packages: pandas\n  Attempting uninstall: pandas\n    Found existing installation: pandas 1.2.4\n    Uninstalling pandas-1.2.4:\n      Successfully uninstalled pandas-1.2.4\n\u001b[31mERROR: pip's dependency resolver does not currently take into account all the packages that are installed. This behaviour is the source of the following dependency conflicts.\nsparkmagic 0.18.0 requires nose, which is not installed.\nhdijupyterutils 0.18.0 requires jupyter>=1, which is not installed.\nhdijupyterutils 0.18.0 requires nose, which is not installed.\nautoai-libs 1.12.13 requires pandas<1.3,>=0.24.2, but you have pandas 1.3.3 which is incompatible.\u001b[0m\nSuccessfully installed pandas-1.3.3\nCollecting requests==2.26.0\n  Downloading requests-2.26.0-py2.py3-none-any.whl (62 kB)\n\u001b[K     |\u2588\u2588\u2588\u2588\u2588\u2588\u2588\u2588\u2588\u2588\u2588\u2588\u2588\u2588\u2588\u2588\u2588\u2588\u2588\u2588\u2588\u2588\u2588\u2588\u2588\u2588\u2588\u2588\u2588\u2588\u2588\u2588| 62 kB 2.1 MB/s  eta 0:00:01\n\u001b[?25hRequirement already satisfied: urllib3<1.27,>=1.21.1 in /opt/conda/envs/Python-3.8-main/lib/python3.8/site-packages (from requests==2.26.0) (1.26.6)\nRequirement already satisfied: idna<4,>=2.5 in /opt/conda/envs/Python-3.8-main/lib/python3.8/site-packages (from requests==2.26.0) (2.8)\nRequirement already satisfied: charset-normalizer~=2.0.0 in /opt/conda/envs/Python-3.8-main/lib/python3.8/site-packages (from requests==2.26.0) (2.0.4)\nRequirement already satisfied: certifi>=2017.4.17 in /opt/conda/envs/Python-3.8-main/lib/python3.8/site-packages (from requests==2.26.0) (2021.10.8)\nInstalling collected packages: requests\n  Attempting uninstall: requests\n    Found existing installation: requests 2.25.1\n    Uninstalling requests-2.25.1:\n      Successfully uninstalled requests-2.25.1\n\u001b[31mERROR: pip's dependency resolver does not currently take into account all the packages that are installed. This behaviour is the source of the following dependency conflicts.\nsparkmagic 0.18.0 requires nose, which is not installed.\u001b[0m\nSuccessfully installed requests-2.26.0\n/usr/bin/sh: mamba: command not found\n/usr/bin/sh: mamba: command not found\nRequirement already satisfied: lxml==4.6.4 in /opt/conda/envs/Python-3.8-main/lib/python3.8/site-packages (4.6.4)\nCollecting plotly==5.3.1\n  Downloading plotly-5.3.1-py2.py3-none-any.whl (23.9 MB)\n\u001b[K     |\u2588\u2588\u2588\u2588\u2588\u2588\u2588\u2588\u2588\u2588\u2588\u2588\u2588\u2588\u2588\u2588\u2588\u2588\u2588\u2588\u2588\u2588\u2588\u2588\u2588\u2588\u2588\u2588\u2588\u2588\u2588\u2588| 23.9 MB 15.2 MB/s eta 0:00:01\n\u001b[?25hRequirement already satisfied: six in /opt/conda/envs/Python-3.8-main/lib/python3.8/site-packages (from plotly==5.3.1) (1.15.0)\nCollecting tenacity>=6.2.0\n  Downloading tenacity-8.0.1-py3-none-any.whl (24 kB)\nInstalling collected packages: tenacity, plotly\n  Attempting uninstall: plotly\n    Found existing installation: plotly 4.14.3\n    Uninstalling plotly-4.14.3:\n      Successfully uninstalled plotly-4.14.3\nSuccessfully installed plotly-5.3.1 tenacity-8.0.1\n"
                }
            ],
            "source": "!pip install pandas==1.3.3\n!pip install requests==2.26.0\n#mamba is only of 2.7 and doesn't support 3.x python\n!mamba install bs4==4.10.0 -y\n!mamba install html5lib==1.1 -y\n!pip install lxml==4.6.4\n!pip install plotly==5.3.1"
        },
        {
            "cell_type": "code",
            "execution_count": 11,
            "metadata": {},
            "outputs": [],
            "source": "import pandas as pd\nimport requests\nfrom bs4 import BeautifulSoup"
        },
        {
            "cell_type": "code",
            "execution_count": 13,
            "metadata": {},
            "outputs": [],
            "source": "url = \"https://cf-courses-data.s3.us.cloud-object-storage.appdomain.cloud/IBMDeveloperSkillsNetwork-PY0220EN-SkillsNetwork/labs/project/amazon_data_webpage.html\"\nhtml_data=requests.get(url).text"
        },
        {
            "cell_type": "code",
            "execution_count": 14,
            "metadata": {},
            "outputs": [],
            "source": "soup = BeautifulSoup(html_data,'html5lib')"
        },
        {
            "cell_type": "code",
            "execution_count": 15,
            "metadata": {},
            "outputs": [],
            "source": "amazon_data = pd.DataFrame(columns=[\"Date\", \"Open\", \"High\", \"Low\", \"Close\", \"Volume\"])\n\n# First we isolate the body of the table which contains all the information\n# Then we loop through each row and find all the column values for each row\nfor row in soup.find(\"tbody\").find_all('tr'):\n    col = row.find_all(\"td\")\n    date = col[0].text\n    Open = col[1].text\n    high = col[2].text\n    low = col[3].text\n    close = col[4].text\n    adj_close = col[5].text\n    volume = col[6].text\n    \n    # Finally we append the data of each row to the table\n    amazon_data = amazon_data.append({\"Date\":date, \"Open\":Open, \"High\":high, \"Low\":low, \"Close\":close, \"Adj Close\":adj_close, \"Volume\":volume}, ignore_index=True)    "
        },
        {
            "cell_type": "code",
            "execution_count": 45,
            "metadata": {},
            "outputs": [
                {
                    "data": {
                        "text/html": "<div>\n<style scoped>\n    .dataframe tbody tr th:only-of-type {\n        vertical-align: middle;\n    }\n\n    .dataframe tbody tr th {\n        vertical-align: top;\n    }\n\n    .dataframe thead th {\n        text-align: right;\n    }\n</style>\n<table border=\"1\" class=\"dataframe\">\n  <thead>\n    <tr style=\"text-align: right;\">\n      <th></th>\n      <th>Date</th>\n      <th>Open</th>\n      <th>High</th>\n      <th>Low</th>\n      <th>Close</th>\n      <th>Volume</th>\n      <th>Adj Close</th>\n    </tr>\n  </thead>\n  <tbody>\n    <tr>\n      <th>0</th>\n      <td>Jan 01, 2021</td>\n      <td>3,270.00</td>\n      <td>3,363.89</td>\n      <td>3,086.00</td>\n      <td>3,206.20</td>\n      <td>71,528,900</td>\n      <td>3,206.20</td>\n    </tr>\n    <tr>\n      <th>1</th>\n      <td>Dec 01, 2020</td>\n      <td>3,188.50</td>\n      <td>3,350.65</td>\n      <td>3,072.82</td>\n      <td>3,256.93</td>\n      <td>77,556,200</td>\n      <td>3,256.93</td>\n    </tr>\n    <tr>\n      <th>2</th>\n      <td>Nov 01, 2020</td>\n      <td>3,061.74</td>\n      <td>3,366.80</td>\n      <td>2,950.12</td>\n      <td>3,168.04</td>\n      <td>90,810,500</td>\n      <td>3,168.04</td>\n    </tr>\n    <tr>\n      <th>3</th>\n      <td>Oct 01, 2020</td>\n      <td>3,208.00</td>\n      <td>3,496.24</td>\n      <td>3,019.00</td>\n      <td>3,036.15</td>\n      <td>116,226,100</td>\n      <td>3,036.15</td>\n    </tr>\n    <tr>\n      <th>4</th>\n      <td>Sep 01, 2020</td>\n      <td>3,489.58</td>\n      <td>3,552.25</td>\n      <td>2,871.00</td>\n      <td>3,148.73</td>\n      <td>115,899,300</td>\n      <td>3,148.73</td>\n    </tr>\n  </tbody>\n</table>\n</div>",
                        "text/plain": "           Date      Open      High       Low     Close       Volume Adj Close\n0  Jan 01, 2021  3,270.00  3,363.89  3,086.00  3,206.20   71,528,900  3,206.20\n1  Dec 01, 2020  3,188.50  3,350.65  3,072.82  3,256.93   77,556,200  3,256.93\n2  Nov 01, 2020  3,061.74  3,366.80  2,950.12  3,168.04   90,810,500  3,168.04\n3  Oct 01, 2020  3,208.00  3,496.24  3,019.00  3,036.15  116,226,100  3,036.15\n4  Sep 01, 2020  3,489.58  3,552.25  2,871.00  3,148.73  115,899,300  3,148.73"
                    },
                    "execution_count": 45,
                    "metadata": {},
                    "output_type": "execute_result"
                }
            ],
            "source": "amazon_data.head()"
        },
        {
            "cell_type": "code",
            "execution_count": 89,
            "metadata": {},
            "outputs": [
                {
                    "data": {
                        "text/html": "<div>\n<style scoped>\n    .dataframe tbody tr th:only-of-type {\n        vertical-align: middle;\n    }\n\n    .dataframe tbody tr th {\n        vertical-align: top;\n    }\n\n    .dataframe thead th {\n        text-align: right;\n    }\n</style>\n<table border=\"1\" class=\"dataframe\">\n  <thead>\n    <tr style=\"text-align: right;\">\n      <th></th>\n      <th>Date</th>\n      <th>Open</th>\n      <th>High</th>\n      <th>Low</th>\n      <th>Close</th>\n      <th>Volume</th>\n      <th>Adj Close</th>\n    </tr>\n  </thead>\n  <tbody>\n  </tbody>\n</table>\n</div>",
                        "text/plain": "Empty DataFrame\nColumns: [Date, Open, High, Low, Close, Volume, Adj Close]\nIndex: []"
                    },
                    "execution_count": 89,
                    "metadata": {},
                    "output_type": "execute_result"
                }
            ],
            "source": "#Name of the name of the columns of the dataframe\namazon_data.head(0)"
        },
        {
            "cell_type": "code",
            "execution_count": 69,
            "metadata": {},
            "outputs": [
                {
                    "data": {
                        "text/html": "<div>\n<style scoped>\n    .dataframe tbody tr th:only-of-type {\n        vertical-align: middle;\n    }\n\n    .dataframe tbody tr th {\n        vertical-align: top;\n    }\n\n    .dataframe thead th {\n        text-align: right;\n    }\n</style>\n<table border=\"1\" class=\"dataframe\">\n  <thead>\n    <tr style=\"text-align: right;\">\n      <th></th>\n      <th>Date</th>\n      <th>Open</th>\n      <th>High</th>\n      <th>Low</th>\n      <th>Close</th>\n      <th>Volume</th>\n      <th>Adj Close</th>\n    </tr>\n  </thead>\n  <tbody>\n    <tr>\n      <th>60</th>\n      <td>Jan 01, 2016</td>\n      <td>656.29</td>\n      <td>657.72</td>\n      <td>547.18</td>\n      <td>587.00</td>\n      <td>130,200,900</td>\n      <td>587.00</td>\n    </tr>\n  </tbody>\n</table>\n</div>",
                        "text/plain": "            Date    Open    High     Low   Close       Volume Adj Close\n60  Jan 01, 2016  656.29  657.72  547.18  587.00  130,200,900    587.00"
                    },
                    "execution_count": 69,
                    "metadata": {},
                    "output_type": "execute_result"
                }
            ],
            "source": "#To locate the last row data\namazon_data.iloc[[-1]]"
        },
        {
            "cell_type": "code",
            "execution_count": 79,
            "metadata": {},
            "outputs": [
                {
                    "data": {
                        "text/plain": "'656.29'"
                    },
                    "execution_count": 79,
                    "metadata": {},
                    "output_type": "execute_result"
                }
            ],
            "source": "#Last row of Open\namazon_data.iloc[-1,1]"
        },
        {
            "cell_type": "code",
            "execution_count": null,
            "metadata": {},
            "outputs": [],
            "source": ""
        }
    ],
    "metadata": {
        "kernelspec": {
            "display_name": "Python 3.8",
            "language": "python",
            "name": "python3"
        },
        "language_info": {
            "codemirror_mode": {
                "name": "ipython",
                "version": 3
            },
            "file_extension": ".py",
            "mimetype": "text/x-python",
            "name": "python",
            "nbconvert_exporter": "python",
            "pygments_lexer": "ipython3",
            "version": "3.8.12"
        }
    },
    "nbformat": 4,
    "nbformat_minor": 1
}