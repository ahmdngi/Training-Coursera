{
    "cells": [
        {
            "cell_type": "code",
            "execution_count": 1,
            "metadata": {},
            "outputs": [
                {
                    "name": "stdout",
                    "output_type": "stream",
                    "text": "Requirement already satisfied: yfinance==0.1.67 in /opt/conda/envs/Python-3.8-main/lib/python3.8/site-packages (0.1.67)\nRequirement already satisfied: requests>=2.20 in /opt/conda/envs/Python-3.8-main/lib/python3.8/site-packages (from yfinance==0.1.67) (2.25.1)\nRequirement already satisfied: pandas>=0.24 in /opt/conda/envs/Python-3.8-main/lib/python3.8/site-packages (from yfinance==0.1.67) (1.2.4)\nRequirement already satisfied: multitasking>=0.0.7 in /opt/conda/envs/Python-3.8-main/lib/python3.8/site-packages (from yfinance==0.1.67) (0.0.10)\nRequirement already satisfied: numpy>=1.15 in /opt/conda/envs/Python-3.8-main/lib/python3.8/site-packages (from yfinance==0.1.67) (1.19.2)\nRequirement already satisfied: lxml>=4.5.1 in /opt/conda/envs/Python-3.8-main/lib/python3.8/site-packages (from yfinance==0.1.67) (4.7.1)\nRequirement already satisfied: python-dateutil>=2.7.3 in /opt/conda/envs/Python-3.8-main/lib/python3.8/site-packages (from pandas>=0.24->yfinance==0.1.67) (2.8.1)\nRequirement already satisfied: pytz>=2017.3 in /opt/conda/envs/Python-3.8-main/lib/python3.8/site-packages (from pandas>=0.24->yfinance==0.1.67) (2021.1)\nRequirement already satisfied: six>=1.5 in /opt/conda/envs/Python-3.8-main/lib/python3.8/site-packages (from python-dateutil>=2.7.3->pandas>=0.24->yfinance==0.1.67) (1.15.0)\nRequirement already satisfied: urllib3<1.27,>=1.21.1 in /opt/conda/envs/Python-3.8-main/lib/python3.8/site-packages (from requests>=2.20->yfinance==0.1.67) (1.26.6)\nRequirement already satisfied: chardet<5,>=3.0.2 in /opt/conda/envs/Python-3.8-main/lib/python3.8/site-packages (from requests>=2.20->yfinance==0.1.67) (3.0.4)\nRequirement already satisfied: idna<3,>=2.5 in /opt/conda/envs/Python-3.8-main/lib/python3.8/site-packages (from requests>=2.20->yfinance==0.1.67) (2.8)\nRequirement already satisfied: certifi>=2017.4.17 in /opt/conda/envs/Python-3.8-main/lib/python3.8/site-packages (from requests>=2.20->yfinance==0.1.67) (2021.10.8)\nNote: you may need to restart the kernel to use updated packages.\n"
                }
            ],
            "source": "%pip install yfinance==0.1.67\n#!pip install pandas==1.3.3"
        },
        {
            "cell_type": "code",
            "execution_count": 2,
            "metadata": {},
            "outputs": [],
            "source": "import yfinance as yf\nimport pandas as pd"
        },
        {
            "cell_type": "code",
            "execution_count": 4,
            "metadata": {},
            "outputs": [],
            "source": "amd = yf.Ticker(\"AMD\")"
        },
        {
            "cell_type": "code",
            "execution_count": 6,
            "metadata": {},
            "outputs": [
                {
                    "data": {
                        "text/plain": "{'zip': '95054',\n 'sector': 'Technology',\n 'fullTimeEmployees': 12600,\n 'longBusinessSummary': 'Advanced Micro Devices, Inc. operates as a semiconductor company worldwide. The company operates in two segments, Computing and Graphics; and Enterprise, Embedded and Semi-Custom. Its products include x86 microprocessors as an accelerated processing unit, chipsets, discrete and integrated graphics processing units (GPUs), data center and professional GPUs, and development services; and server and embedded processors, and semi-custom System-on-Chip (SoC) products, development services, and technology for game consoles. The company provides x86 microprocessors for desktop PCs under the AMD Ryzen, AMD Ryzen PRO, Ryzen, Threadripper, AMD A-Series, AMD FX, AMD Athlon, AMD Athlon PRO, and AMD Pro A-Series processors brands; microprocessors for notebook and 2-in-1s under the AMD Ryzen, AMD A-Series, AMD Athlon, AMD Ryzen PRO, AMD Athlon PRO, and AMD Pro A-Series processors brands; microprocessors for servers under the AMD EPYC and AMD Opteron brands; and chipsets under the AMD trademark. It also offers discrete GPUs for desktop and notebook PCs under the AMD Radeon graphics and AMD Embedded Radeon brands; professional graphics products under the AMD Radeon Pro and AMD FirePro graphics brands; and Radeon Instinct and AMD Instinct accelerators for servers. In addition, the company provides embedded processor solutions under the AMD Opteron, AMD Athlon, AMD Geode, AMD Ryzen, AMD EPYC, AMD R-Series, and G-Series processors brands; and customer-specific solutions based on AMD CPU, GPU, and multi-media technologies, as well as semi-custom SoC products. It serves original equipment manufacturers, public cloud service providers, original design manufacturers, system integrators, independent distributors, online retailers, and add-in-board manufacturers through its direct sales force, independent distributors, and sales representatives. Advanced Micro Devices, Inc. was founded in 1969 and is headquartered in Santa Clara, California.',\n 'city': 'Santa Clara',\n 'phone': '408 749 4000',\n 'state': 'CA',\n 'country': 'United States',\n 'companyOfficers': [],\n 'website': 'https://www.amd.com',\n 'maxAge': 1,\n 'address1': '2485 Augustine Drive',\n 'industry': 'Semiconductors',\n 'ebitdaMargins': 0.23047,\n 'profitMargins': 0.26724002,\n 'grossMargins': 0.46822,\n 'operatingCashflow': 3252999936,\n 'revenueGrowth': 0.54,\n 'operatingMargins': 0.20496,\n 'ebitda': 3423000064,\n 'targetLowPrice': 101.5,\n 'recommendationKey': 'buy',\n 'grossProfits': 4347000000,\n 'freeCashflow': 2437625088,\n 'targetMedianPrice': 145,\n 'currentPrice': 114.25,\n 'earningsGrowth': 1.331,\n 'currentRatio': 2.241,\n 'returnOnAssets': 0.20934,\n 'numberOfAnalystOpinions': 37,\n 'targetMeanPrice': 142.74,\n 'debtToEquity': 9.837,\n 'returnOnEquity': 0.72143996,\n 'targetHighPrice': 180,\n 'totalCash': 3608000000,\n 'totalDebt': 702000000,\n 'totalRevenue': 14851999744,\n 'totalCashPerShare': 2.988,\n 'financialCurrency': 'USD',\n 'revenuePerShare': 12.249,\n 'quickRatio': 1.638,\n 'recommendationMean': 2.4,\n 'exchange': 'NMS',\n 'shortName': 'Advanced Micro Devices, Inc.',\n 'longName': 'Advanced Micro Devices, Inc.',\n 'exchangeTimezoneName': 'America/New_York',\n 'exchangeTimezoneShortName': 'EST',\n 'isEsgPopulated': False,\n 'gmtOffSetMilliseconds': '-18000000',\n 'quoteType': 'EQUITY',\n 'symbol': 'AMD',\n 'messageBoardId': 'finmb_168864',\n 'market': 'us_market',\n 'annualHoldingsTurnover': None,\n 'enterpriseToRevenue': 9.094,\n 'beta3Year': None,\n 'enterpriseToEbitda': 39.458,\n '52WeekChange': 0.28573036,\n 'morningStarRiskRating': None,\n 'forwardEps': 3.36,\n 'revenueQuarterlyGrowth': None,\n 'sharesOutstanding': 1207609984,\n 'fundInceptionDate': None,\n 'annualReportExpenseRatio': None,\n 'totalAssets': None,\n 'bookValue': 5.888,\n 'sharesShort': 63839188,\n 'sharesPercentSharesOut': 0.0529,\n 'fundFamily': None,\n 'lastFiscalYearEnd': 1608940800,\n 'heldPercentInstitutions': 0.70542,\n 'netIncomeToCommon': 3968999936,\n 'trailingEps': 3.242,\n 'lastDividendValue': None,\n 'SandP52WeekChange': 0.1801318,\n 'priceToBook': 19.403872,\n 'heldPercentInsiders': 0.00486,\n 'nextFiscalYearEnd': 1672012800,\n 'yield': None,\n 'mostRecentQuarter': 1632528000,\n 'shortRatio': 1.05,\n 'sharesShortPreviousMonthDate': 1639526400,\n 'floatShares': 1200533858,\n 'beta': 1.873796,\n 'enterpriseValue': 135063494656,\n 'priceHint': 2,\n 'threeYearAverageReturn': None,\n 'lastSplitDate': 966902400,\n 'lastSplitFactor': '2:1',\n 'legalType': None,\n 'lastDividendDate': None,\n 'morningStarOverallRating': None,\n 'earningsQuarterlyGrowth': 1.367,\n 'priceToSalesTrailing12Months': 9.28962,\n 'dateShortInterest': 1642118400,\n 'pegRatio': 1.12,\n 'ytdReturn': None,\n 'forwardPE': 34.002975,\n 'lastCapGain': None,\n 'shortPercentOfFloat': 0.0531,\n 'sharesShortPriorMonth': 69630670,\n 'impliedSharesOutstanding': None,\n 'category': None,\n 'fiveYearAverageReturn': None,\n 'previousClose': 105.24,\n 'regularMarketOpen': 107.93,\n 'twoHundredDayAverage': 109.3929,\n 'trailingAnnualDividendYield': None,\n 'payoutRatio': 0,\n 'volume24Hr': None,\n 'regularMarketDayHigh': 114.3,\n 'navPrice': None,\n 'averageDailyVolume10Day': 93055330,\n 'regularMarketPreviousClose': 105.24,\n 'fiftyDayAverage': 138.7868,\n 'trailingAnnualDividendRate': None,\n 'open': 107.93,\n 'toCurrency': None,\n 'averageVolume10days': 93055330,\n 'expireDate': None,\n 'algorithm': None,\n 'dividendRate': None,\n 'exDividendDate': 798940800,\n 'circulatingSupply': None,\n 'startDate': None,\n 'regularMarketDayLow': 106.9,\n 'currency': 'USD',\n 'trailingPE': 35.240593,\n 'regularMarketVolume': 97205994,\n 'lastMarket': None,\n 'maxSupply': None,\n 'openInterest': None,\n 'marketCap': 137969434624,\n 'volumeAllCurrencies': None,\n 'strikePrice': None,\n 'averageVolume': 66649564,\n 'dayLow': 106.9,\n 'ask': 0,\n 'askSize': 1100,\n 'volume': 97205994,\n 'fiftyTwoWeekHigh': 164.46,\n 'fromCurrency': None,\n 'fiveYearAvgDividendYield': None,\n 'fiftyTwoWeekLow': 72.5,\n 'bid': 0,\n 'tradeable': False,\n 'dividendYield': None,\n 'bidSize': 800,\n 'dayHigh': 114.3,\n 'regularMarketPrice': 114.25,\n 'preMarketPrice': 117.08,\n 'logo_url': 'https://logo.clearbit.com/amd.com'}"
                    },
                    "execution_count": 6,
                    "metadata": {},
                    "output_type": "execute_result"
                }
            ],
            "source": "amd_info=amd.info\namd_info"
        },
        {
            "cell_type": "code",
            "execution_count": 7,
            "metadata": {},
            "outputs": [
                {
                    "data": {
                        "text/plain": "'United States'"
                    },
                    "execution_count": 7,
                    "metadata": {},
                    "output_type": "execute_result"
                }
            ],
            "source": "amd_info['country']"
        },
        {
            "cell_type": "code",
            "execution_count": 20,
            "metadata": {},
            "outputs": [
                {
                    "data": {
                        "text/plain": "'Technology'"
                    },
                    "execution_count": 20,
                    "metadata": {},
                    "output_type": "execute_result"
                }
            ],
            "source": "amd_info['sector']"
        },
        {
            "cell_type": "code",
            "execution_count": 8,
            "metadata": {},
            "outputs": [],
            "source": "amd_share_price_data=amd.history(period=\"max\")"
        },
        {
            "cell_type": "code",
            "execution_count": 31,
            "metadata": {
                "scrolled": true
            },
            "outputs": [
                {
                    "data": {
                        "text/html": "<div>\n<style scoped>\n    .dataframe tbody tr th:only-of-type {\n        vertical-align: middle;\n    }\n\n    .dataframe tbody tr th {\n        vertical-align: top;\n    }\n\n    .dataframe thead th {\n        text-align: right;\n    }\n</style>\n<table border=\"1\" class=\"dataframe\">\n  <thead>\n    <tr style=\"text-align: right;\">\n      <th></th>\n      <th>Date</th>\n      <th>Open</th>\n      <th>High</th>\n      <th>Low</th>\n      <th>Close</th>\n      <th>Volume</th>\n      <th>Dividends</th>\n      <th>Stock Splits</th>\n    </tr>\n  </thead>\n  <tbody>\n    <tr>\n      <th>0</th>\n      <td>2021-12-01</td>\n      <td>160.369995</td>\n      <td>160.880005</td>\n      <td>148.919998</td>\n      <td>149.110001</td>\n      <td>64039100</td>\n      <td>0</td>\n      <td>0</td>\n    </tr>\n    <tr>\n      <th>1</th>\n      <td>2021-12-02</td>\n      <td>147.679993</td>\n      <td>152.529999</td>\n      <td>146.470001</td>\n      <td>150.679993</td>\n      <td>56161200</td>\n      <td>0</td>\n      <td>0</td>\n    </tr>\n    <tr>\n      <th>2</th>\n      <td>2021-12-03</td>\n      <td>151.649994</td>\n      <td>152.380005</td>\n      <td>140.720001</td>\n      <td>144.009995</td>\n      <td>65856800</td>\n      <td>0</td>\n      <td>0</td>\n    </tr>\n    <tr>\n      <th>3</th>\n      <td>2021-12-06</td>\n      <td>141.139999</td>\n      <td>141.309998</td>\n      <td>134.199997</td>\n      <td>139.059998</td>\n      <td>66776500</td>\n      <td>0</td>\n      <td>0</td>\n    </tr>\n    <tr>\n      <th>4</th>\n      <td>2021-12-07</td>\n      <td>143.899994</td>\n      <td>145.759995</td>\n      <td>141.000000</td>\n      <td>144.850006</td>\n      <td>53359400</td>\n      <td>0</td>\n      <td>0</td>\n    </tr>\n  </tbody>\n</table>\n</div>",
                        "text/plain": "        Date        Open        High         Low       Close    Volume  \\\n0 2021-12-01  160.369995  160.880005  148.919998  149.110001  64039100   \n1 2021-12-02  147.679993  152.529999  146.470001  150.679993  56161200   \n2 2021-12-03  151.649994  152.380005  140.720001  144.009995  65856800   \n3 2021-12-06  141.139999  141.309998  134.199997  139.059998  66776500   \n4 2021-12-07  143.899994  145.759995  141.000000  144.850006  53359400   \n\n   Dividends  Stock Splits  \n0          0             0  \n1          0             0  \n2          0             0  \n3          0             0  \n4          0             0  "
                    },
                    "execution_count": 31,
                    "metadata": {},
                    "output_type": "execute_result"
                }
            ],
            "source": "amd_share_price_data.head()"
        },
        {
            "cell_type": "code",
            "execution_count": 12,
            "metadata": {},
            "outputs": [],
            "source": "amd_share_price_data.reset_index(inplace=True)"
        },
        {
            "cell_type": "code",
            "execution_count": 14,
            "metadata": {},
            "outputs": [
                {
                    "data": {
                        "text/plain": "<AxesSubplot:xlabel='Date'>"
                    },
                    "execution_count": 14,
                    "metadata": {},
                    "output_type": "execute_result"
                },
                {
                    "data": {
                        "image/png": "[encoded data removed]",
                        "text/plain": "<Figure size 432x288 with 1 Axes>"
                    },
                    "metadata": {
                        "needs_background": "light"
                    },
                    "output_type": "display_data"
                }
            ],
            "source": "amd_share_price_data.plot(x=\"Date\",y=\"Open\")"
        },
        {
            "cell_type": "code",
            "execution_count": 30,
            "metadata": {},
            "outputs": [
                {
                    "data": {
                        "text/plain": "64039100"
                    },
                    "execution_count": 30,
                    "metadata": {},
                    "output_type": "execute_result"
                }
            ],
            "source": "amd_share_price_data.loc[0,\"Volume\"]"
        },
        {
            "cell_type": "code",
            "execution_count": null,
            "metadata": {},
            "outputs": [],
            "source": ""
        },
        {
            "cell_type": "code",
            "execution_count": null,
            "metadata": {},
            "outputs": [],
            "source": ""
        },
        {
            "cell_type": "code",
            "execution_count": null,
            "metadata": {},
            "outputs": [],
            "source": ""
        }
    ],
    "metadata": {
        "kernelspec": {
            "display_name": "Python 3.8",
            "language": "python",
            "name": "python3"
        },
        "language_info": {
            "codemirror_mode": {
                "name": "ipython",
                "version": 3
            },
            "file_extension": ".py",
            "mimetype": "text/x-python",
            "name": "python",
            "nbconvert_exporter": "python",
            "pygments_lexer": "ipython3",
            "version": "3.8.12"
        }
    },
    "nbformat": 4,
    "nbformat_minor": 1
}